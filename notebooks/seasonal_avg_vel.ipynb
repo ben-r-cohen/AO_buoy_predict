{
 "cells": [
  {
   "cell_type": "code",
   "execution_count": 4,
   "metadata": {},
   "outputs": [
    {
     "name": "stderr",
     "output_type": "stream",
     "text": [
      "C:\\Users\\benem\\AppData\\Local\\Temp\\ipykernel_27336\\3859526113.py:30: FutureWarning: The behavior of DataFrame concatenation with empty or all-NA entries is deprecated. In a future version, this will no longer exclude empty or all-NA columns when determining the result dtypes. To retain the old behavior, exclude the relevant entries before the concat operation.\n",
      "  seasonal_avg_velocity = pd.concat([seasonal_avg_velocity, calculate_avg_velocity(winter, 'Winter')], ignore_index=True)\n"
     ]
    }
   ],
   "source": [
    "import pandas as pd\n",
    "\n",
    "file_path = r'C:\\Users\\benem\\Documents\\GitHub\\AO_buoy_predict\\data\\processed\\interpolated_buoy_data.csv'\n",
    "buoy_data = pd.read_csv(file_path)\n",
    "\n",
    "def remove_first_zero_velocity(df):\n",
    "    zero_velocity_indices = df[df['velocity'] == 0].groupby('BuoyID').head(1).index\n",
    "    return df.drop(zero_velocity_indices)\n",
    "\n",
    "buoy_data = remove_first_zero_velocity(buoy_data)\n",
    "\n",
    "# Split the dataframe into seasonal dataframes\n",
    "winter = buoy_data[buoy_data['Month'].isin([12, 1, 2])]\n",
    "spring = buoy_data[buoy_data['Month'].isin([3, 4, 5])]\n",
    "summer = buoy_data[buoy_data['Month'].isin([6, 7, 8])]\n",
    "autumn = buoy_data[buoy_data['Month'].isin([9, 10, 11])]\n",
    "\n",
    "# Create a new dataframe for the results\n",
    "seasonal_avg_velocity = pd.DataFrame(columns=['BuoyID', 'AvgVel', 'Season'])\n",
    "\n",
    "# Function to calculate average velocity and append to the results dataframe\n",
    "def calculate_avg_velocity(season_df, season_name):\n",
    "    avg_velocity = season_df.groupby('BuoyID')['velocity'].mean().reset_index()\n",
    "    avg_velocity['Season'] = season_name\n",
    "    avg_velocity.rename(columns={'velocity': 'AvgVel'}, inplace=True)\n",
    "    avg_velocity['AvgVel'] = avg_velocity['AvgVel'].round(3)  # Round to three decimal places\n",
    "    return avg_velocity\n",
    "\n",
    "# Calculate average velocity for each season and append to the results dataframe\n",
    "seasonal_avg_velocity = pd.concat([seasonal_avg_velocity, calculate_avg_velocity(winter, 'Winter')], ignore_index=True)\n",
    "seasonal_avg_velocity = pd.concat([seasonal_avg_velocity, calculate_avg_velocity(spring, 'Spring')], ignore_index=True)\n",
    "seasonal_avg_velocity = pd.concat([seasonal_avg_velocity, calculate_avg_velocity(summer, 'Summer')], ignore_index=True)\n",
    "seasonal_avg_velocity = pd.concat([seasonal_avg_velocity, calculate_avg_velocity(autumn, 'Autumn')], ignore_index=True)\n",
    "\n",
    "# Export the results to a CSV file\n",
    "output_file_path = r'C:\\Users\\benem\\Documents\\GitHub\\AO_buoy_predict\\data\\processed\\seasonal_avg_velocity.csv'\n",
    "seasonal_avg_velocity.to_csv(output_file_path, index=False)"
   ]
  }
 ],
 "metadata": {
  "kernelspec": {
   "display_name": "base",
   "language": "python",
   "name": "python3"
  },
  "language_info": {
   "codemirror_mode": {
    "name": "ipython",
    "version": 3
   },
   "file_extension": ".py",
   "mimetype": "text/x-python",
   "name": "python",
   "nbconvert_exporter": "python",
   "pygments_lexer": "ipython3",
   "version": "3.12.3"
  }
 },
 "nbformat": 4,
 "nbformat_minor": 2
}
