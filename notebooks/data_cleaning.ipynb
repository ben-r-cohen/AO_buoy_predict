{
 "cells": [
  {
   "cell_type": "markdown",
   "metadata": {},
   "source": [
    "### Raw buoy data cleaning\n",
    "This cell will clean the buoy data to remove rows with NAs in the Lat/Lon columns, ensure that the format of lat/lon pairs is standardized, remove buoy locations on land, and remove buoy tracks with less than 50 rows (these are assumed to have been destroyed or instruments failed)\n",
    "\n",
    "The resulting cleaned data will be stored in the data/cleaned/buoydata/past folder."
   ]
  },
  {
   "cell_type": "code",
   "execution_count": 1,
   "metadata": {},
   "outputs": [
    {
     "name": "stdout",
     "output_type": "stream",
     "text": [
      "300025010024370.csv has been deleted for having less than 50 rows\n",
      "All files have been cleaned and saved to the cleaned directory.\n"
     ]
    }
   ],
   "source": [
    "import os\n",
    "import pandas as pd\n",
    "import rasterio\n",
    "import shutil\n",
    "import numpy as np\n",
    "\n",
    "# Initialize directories and paths\n",
    "input_directory = '../data/raw/buoydata/past'\n",
    "output_directory = '../data/cleaned/buoydata/past'\n",
    "raster_path = '../data/raw/geospatial/arctic_land.tif'\n",
    "\n",
    "# Clear the output directory if it exists, otherwise create it\n",
    "if os.path.exists(output_directory):\n",
    "    shutil.rmtree(output_directory)\n",
    "os.makedirs(output_directory, exist_ok=True)\n",
    "\n",
    "# Normalize latitude values\n",
    "def normalize_lat(lat):\n",
    "    while lat < -90 or lat > 90:\n",
    "        if lat < -90:\n",
    "            lat = -180 - lat\n",
    "        elif lat > 90:\n",
    "            lat = 180 - lat\n",
    "    return lat\n",
    "\n",
    "# Normalize longitude values\n",
    "def normalize_lon(lon):\n",
    "    while lon < -180 or lon > 180:\n",
    "        if lon < -180:\n",
    "            lon += 360\n",
    "        elif lon > 180:\n",
    "            lon -= 360\n",
    "    return lon\n",
    "\n",
    "# Open the raster file\n",
    "with rasterio.open(raster_path) as src:\n",
    "    raster_data = src.read(1)\n",
    "    affine_transform = src.transform\n",
    "\n",
    "    def overlaps_raster_value_one(lat, lon):\n",
    "        if pd.isna(lat) or pd.isna(lon):\n",
    "            return False\n",
    "        try:\n",
    "            row, col = src.index(lon, lat)\n",
    "            if 0 <= row < raster_data.shape[0] and 0 <= col < raster_data.shape[1]:\n",
    "                return raster_data[row, col] == 1\n",
    "        except ValueError:\n",
    "            return False\n",
    "        return False\n",
    "\n",
    "    for filename in os.listdir(input_directory):\n",
    "        if filename.endswith('.csv'):\n",
    "            input_file_path = os.path.join(input_directory, filename)\n",
    "\n",
    "            df = pd.read_csv(input_file_path)\n",
    "\n",
    "            df_cleaned = df.dropna(subset=['Lat', 'Lon'])\n",
    "\n",
    "            df_cleaned = df_cleaned.drop_duplicates()\n",
    "\n",
    "            df_cleaned['Lat'] = df_cleaned['Lat'].apply(normalize_lat)\n",
    "            df_cleaned['Lon'] = df_cleaned['Lon'].apply(normalize_lon)\n",
    "\n",
    "            df_cleaned['overlaps'] = df_cleaned.apply(lambda row: overlaps_raster_value_one(row['Lat'], row['Lon']), axis=1)\n",
    "            removed_rows = df_cleaned[df_cleaned['overlaps']]\n",
    "            df_cleaned = df_cleaned[~df_cleaned['overlaps']]\n",
    "\n",
    "            removed_rows_df = pd.concat([removed_rows_df, removed_rows], ignore_index=True) if 'removed_rows_df' in locals() else removed_rows\n",
    "\n",
    "            df_cleaned = df_cleaned.drop(columns=['overlaps'])\n",
    "\n",
    "            if len(df_cleaned) > 50:\n",
    "                output_file_path = os.path.join(output_directory, filename)\n",
    "                df_cleaned.to_csv(output_file_path, index=False)\n",
    "            else:\n",
    "                print(f'{filename} has been deleted for having less than 50 rows')\n",
    "\n",
    "print('All files have been cleaned and saved to the cleaned directory.')"
   ]
  }
 ],
 "metadata": {
  "kernelspec": {
   "display_name": "base",
   "language": "python",
   "name": "python3"
  },
  "language_info": {
   "codemirror_mode": {
    "name": "ipython",
    "version": 3
   },
   "file_extension": ".py",
   "mimetype": "text/x-python",
   "name": "python",
   "nbconvert_exporter": "python",
   "pygments_lexer": "ipython3",
   "version": "3.12.3"
  }
 },
 "nbformat": 4,
 "nbformat_minor": 2
}
