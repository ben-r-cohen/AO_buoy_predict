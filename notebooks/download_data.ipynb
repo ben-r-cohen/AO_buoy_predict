{
 "cells": [
  {
   "cell_type": "markdown",
   "metadata": {},
   "source": [
    "Download a collection of past buoy transmissions from a section of the IABP website."
   ]
  },
  {
   "cell_type": "code",
   "execution_count": 1,
   "metadata": {},
   "outputs": [
    {
     "name": "stdout",
     "output_type": "stream",
     "text": [
      "Downloaded file to ../data/raw/buoydata/past/temp\\IABP_Level1_2023all.csv\n",
      "Saved ../data/raw/buoydata/past\\900115.csv\n",
      "Saved ../data/raw/buoydata/past\\900120.csv\n",
      "Saved ../data/raw/buoydata/past\\900121.csv\n",
      "Saved ../data/raw/buoydata/past\\900122.csv\n",
      "Saved ../data/raw/buoydata/past\\900124.csv\n",
      "Saved ../data/raw/buoydata/past\\900125.csv\n",
      "Saved ../data/raw/buoydata/past\\900126.csv\n",
      "Saved ../data/raw/buoydata/past\\900127.csv\n",
      "Saved ../data/raw/buoydata/past\\900128.csv\n",
      "Saved ../data/raw/buoydata/past\\900130.csv\n",
      "Saved ../data/raw/buoydata/past\\900131.csv\n",
      "Saved ../data/raw/buoydata/past\\900135.csv\n",
      "Saved ../data/raw/buoydata/past\\900136.csv\n",
      "Saved ../data/raw/buoydata/past\\900137.csv\n",
      "Saved ../data/raw/buoydata/past\\900138.csv\n",
      "Saved ../data/raw/buoydata/past\\900139.csv\n",
      "Saved ../data/raw/buoydata/past\\900140.csv\n",
      "Saved ../data/raw/buoydata/past\\900141.csv\n",
      "Saved ../data/raw/buoydata/past\\902002.csv\n",
      "Saved ../data/raw/buoydata/past\\902004.csv\n",
      "Saved ../data/raw/buoydata/past\\902005.csv\n",
      "Saved ../data/raw/buoydata/past\\902006.csv\n",
      "Saved ../data/raw/buoydata/past\\902007.csv\n",
      "Saved ../data/raw/buoydata/past\\902008.csv\n",
      "Saved ../data/raw/buoydata/past\\902009.csv\n",
      "Saved ../data/raw/buoydata/past\\902011.csv\n",
      "Saved ../data/raw/buoydata/past\\300025010024370.csv\n",
      "Saved ../data/raw/buoydata/past\\300025010734900.csv\n",
      "Saved ../data/raw/buoydata/past\\300025060513230.csv\n",
      "Saved ../data/raw/buoydata/past\\300234011750710.csv\n",
      "Saved ../data/raw/buoydata/past\\300234011751690.csv\n",
      "Saved ../data/raw/buoydata/past\\300234011751700.csv\n",
      "Saved ../data/raw/buoydata/past\\300234011752700.csv\n",
      "Saved ../data/raw/buoydata/past\\300234060321940.csv\n",
      "Saved ../data/raw/buoydata/past\\300234060324930.csv\n",
      "Saved ../data/raw/buoydata/past\\300234060325930.csv\n",
      "Saved ../data/raw/buoydata/past\\300234060330560.csv\n",
      "Saved ../data/raw/buoydata/past\\300234060543140.csv\n",
      "Saved ../data/raw/buoydata/past\\300234060726880.csv\n",
      "Saved ../data/raw/buoydata/past\\300234060727760.csv\n",
      "Saved ../data/raw/buoydata/past\\300234060728940.csv\n",
      "Saved ../data/raw/buoydata/past\\300234060729780.csv\n",
      "Saved ../data/raw/buoydata/past\\300234061152630.csv\n",
      "Saved ../data/raw/buoydata/past\\300234061160580.csv\n",
      "Saved ../data/raw/buoydata/past\\300234061162580.csv\n",
      "Saved ../data/raw/buoydata/past\\300234061164500.csv\n",
      "Saved ../data/raw/buoydata/past\\300234062735030.csv\n",
      "Saved ../data/raw/buoydata/past\\300234063064350.csv\n",
      "Saved ../data/raw/buoydata/past\\300234064708300.csv\n",
      "Saved ../data/raw/buoydata/past\\300234065171790.csv\n",
      "Saved ../data/raw/buoydata/past\\300234065495020.csv\n",
      "Saved ../data/raw/buoydata/past\\300234066028200.csv\n",
      "Saved ../data/raw/buoydata/past\\300234066034140.csv\n",
      "Saved ../data/raw/buoydata/past\\300234066088170.csv\n",
      "Saved ../data/raw/buoydata/past\\300234066217660.csv\n",
      "Saved ../data/raw/buoydata/past\\300234066217770.csv\n",
      "Saved ../data/raw/buoydata/past\\300234066217870.csv\n",
      "Saved ../data/raw/buoydata/past\\300234066305080.csv\n",
      "Saved ../data/raw/buoydata/past\\300234066336960.csv\n",
      "Saved ../data/raw/buoydata/past\\300234066391330.csv\n",
      "Saved ../data/raw/buoydata/past\\300234066417910.csv\n",
      "Saved ../data/raw/buoydata/past\\300234066436470.csv\n",
      "Saved ../data/raw/buoydata/past\\300234066437110.csv\n",
      "Saved ../data/raw/buoydata/past\\300234066438890.csv\n",
      "Saved ../data/raw/buoydata/past\\300234066533040.csv\n",
      "Saved ../data/raw/buoydata/past\\300234066534020.csv\n",
      "Saved ../data/raw/buoydata/past\\300234066690590.csv\n",
      "Saved ../data/raw/buoydata/past\\300234066691600.csv\n",
      "Saved ../data/raw/buoydata/past\\300234066791780.csv\n",
      "Saved ../data/raw/buoydata/past\\300234066797650.csv\n",
      "Saved ../data/raw/buoydata/past\\300234066890240.csv\n",
      "Saved ../data/raw/buoydata/past\\300234066891240.csv\n",
      "Saved ../data/raw/buoydata/past\\300234066892270.csv\n",
      "Saved ../data/raw/buoydata/past\\300234066893230.csv\n",
      "Saved ../data/raw/buoydata/past\\300234066893240.csv\n",
      "Saved ../data/raw/buoydata/past\\300234066894280.csv\n",
      "Saved ../data/raw/buoydata/past\\300234066895270.csv\n",
      "Saved ../data/raw/buoydata/past\\300234066896220.csv\n",
      "Saved ../data/raw/buoydata/past\\300234066896250.csv\n",
      "Saved ../data/raw/buoydata/past\\300234066897280.csv\n",
      "Saved ../data/raw/buoydata/past\\300234066898280.csv\n",
      "Saved ../data/raw/buoydata/past\\300234067423940.csv\n",
      "Saved ../data/raw/buoydata/past\\300234067525560.csv\n",
      "Saved ../data/raw/buoydata/past\\300234067527540.csv\n",
      "Saved ../data/raw/buoydata/past\\300234067874480.csv\n",
      "Saved ../data/raw/buoydata/past\\300234067876770.csv\n",
      "Saved ../data/raw/buoydata/past\\300234067877380.csv\n",
      "Saved ../data/raw/buoydata/past\\300234067878170.csv\n",
      "Saved ../data/raw/buoydata/past\\300234067878310.csv\n",
      "Saved ../data/raw/buoydata/past\\300234067976260.csv\n",
      "Saved ../data/raw/buoydata/past\\300234067977270.csv\n",
      "Saved ../data/raw/buoydata/past\\300234067977320.csv\n",
      "Saved ../data/raw/buoydata/past\\300234068044050.csv\n",
      "Saved ../data/raw/buoydata/past\\300234068164710.csv\n",
      "Saved ../data/raw/buoydata/past\\300234068166760.csv\n",
      "Saved ../data/raw/buoydata/past\\300234068241260.csv\n",
      "Saved ../data/raw/buoydata/past\\300234068242250.csv\n",
      "Saved ../data/raw/buoydata/past\\300234068287880.csv\n",
      "Saved ../data/raw/buoydata/past\\300234068342720.csv\n",
      "Saved ../data/raw/buoydata/past\\300234068343550.csv\n",
      "Saved ../data/raw/buoydata/past\\300234068345210.csv\n",
      "Saved ../data/raw/buoydata/past\\300234068345410.csv\n",
      "Saved ../data/raw/buoydata/past\\300234068345490.csv\n",
      "Saved ../data/raw/buoydata/past\\300234068348190.csv\n",
      "Saved ../data/raw/buoydata/past\\300234068349700.csv\n",
      "Saved ../data/raw/buoydata/past\\300234068481030.csv\n",
      "Saved ../data/raw/buoydata/past\\300234068482590.csv\n",
      "Saved ../data/raw/buoydata/past\\300234068486020.csv\n",
      "Saved ../data/raw/buoydata/past\\300234068487020.csv\n",
      "Saved ../data/raw/buoydata/past\\300234068514740.csv\n",
      "Saved ../data/raw/buoydata/past\\300234068527600.csv\n",
      "Saved ../data/raw/buoydata/past\\300234068701300.csv\n",
      "Saved ../data/raw/buoydata/past\\300234068760760.csv\n",
      "Saved ../data/raw/buoydata/past\\300234068760770.csv\n",
      "Saved ../data/raw/buoydata/past\\300234068762710.csv\n",
      "Saved ../data/raw/buoydata/past\\300234068762760.csv\n",
      "Saved ../data/raw/buoydata/past\\300234068763470.csv\n",
      "Saved ../data/raw/buoydata/past\\300234068763720.csv\n",
      "Saved ../data/raw/buoydata/past\\300234068763750.csv\n",
      "Saved ../data/raw/buoydata/past\\300234068764740.csv\n",
      "Saved ../data/raw/buoydata/past\\300234068764770.csv\n",
      "Saved ../data/raw/buoydata/past\\300234068766740.csv\n",
      "Saved ../data/raw/buoydata/past\\300234068766770.csv\n",
      "Saved ../data/raw/buoydata/past\\300234068767570.csv\n",
      "Saved ../data/raw/buoydata/past\\300234068768730.csv\n",
      "Saved ../data/raw/buoydata/past\\300234068769540.csv\n",
      "Saved ../data/raw/buoydata/past\\300234068818610.csv\n",
      "Saved ../data/raw/buoydata/past\\300434063448890.csv\n",
      "Saved ../data/raw/buoydata/past\\300434064560560.csv\n",
      "Saved ../data/raw/buoydata/past\\300434064563570.csv\n",
      "Saved ../data/raw/buoydata/past\\300434064564590.csv\n",
      "Saved ../data/raw/buoydata/past\\300434064565600.csv\n",
      "Saved ../data/raw/buoydata/past\\300434064565670.csv\n",
      "Saved ../data/raw/buoydata/past\\300434064566570.csv\n",
      "Saved ../data/raw/buoydata/past\\300434065651330.csv\n",
      "Saved ../data/raw/buoydata/past\\300434065658110.csv\n",
      "Saved ../data/raw/buoydata/past\\300434066150890.csv\n",
      "Saved ../data/raw/buoydata/past\\300434066151920.csv\n",
      "Saved ../data/raw/buoydata/past\\300434066153880.csv\n",
      "Saved ../data/raw/buoydata/past\\300434066157890.csv\n",
      "Saved ../data/raw/buoydata/past\\300434066159880.csv\n",
      "Saved ../data/raw/buoydata/past\\300434066254600.csv\n",
      "Saved ../data/raw/buoydata/past\\300434066255600.csv\n",
      "Saved ../data/raw/buoydata/past\\300534060051570.csv\n",
      "Saved ../data/raw/buoydata/past\\300534060057710.csv\n",
      "Saved ../data/raw/buoydata/past\\300534060114350.csv\n",
      "Saved ../data/raw/buoydata/past\\300534060151880.csv\n",
      "Saved ../data/raw/buoydata/past\\300534060166870.csv\n",
      "Saved ../data/raw/buoydata/past\\300534060168940.csv\n",
      "Saved ../data/raw/buoydata/past\\300534060319790.csv\n",
      "Saved ../data/raw/buoydata/past\\300534060617370.csv\n",
      "Saved ../data/raw/buoydata/past\\300534060710530.csv\n",
      "Saved ../data/raw/buoydata/past\\300534060711520.csv\n",
      "Saved ../data/raw/buoydata/past\\300534060716640.csv\n",
      "Saved ../data/raw/buoydata/past\\300534060951200.csv\n",
      "Saved ../data/raw/buoydata/past\\300534060951600.csv\n",
      "Saved ../data/raw/buoydata/past\\300534060952010.csv\n",
      "Saved ../data/raw/buoydata/past\\300534060954010.csv\n",
      "Saved ../data/raw/buoydata/past\\300534060954360.csv\n",
      "Saved ../data/raw/buoydata/past\\300534061252920.csv\n",
      "Saved ../data/raw/buoydata/past\\300534061256910.csv\n",
      "Saved ../data/raw/buoydata/past\\300534061345540.csv\n",
      "Saved ../data/raw/buoydata/past\\300534061348580.csv\n",
      "Saved ../data/raw/buoydata/past\\300534061353000.csv\n",
      "Saved ../data/raw/buoydata/past\\300534061383140.csv\n",
      "Saved ../data/raw/buoydata/past\\300534061383190.csv\n",
      "Saved ../data/raw/buoydata/past\\300534061512090.csv\n",
      "Saved ../data/raw/buoydata/past\\300534061553780.csv\n",
      "Saved ../data/raw/buoydata/past\\300534061592170.csv\n",
      "Saved ../data/raw/buoydata/past\\300534061614250.csv\n",
      "Saved ../data/raw/buoydata/past\\300534061780910.csv\n",
      "Saved ../data/raw/buoydata/past\\300534061783870.csv\n",
      "Saved ../data/raw/buoydata/past\\300534061784850.csv\n",
      "Saved ../data/raw/buoydata/past\\300534061785890.csv\n",
      "Saved ../data/raw/buoydata/past\\300534061808320.csv\n",
      "Saved ../data/raw/buoydata/past\\300534061984520.csv\n",
      "Saved ../data/raw/buoydata/past\\300534061985510.csv\n",
      "Saved ../data/raw/buoydata/past\\300534061985530.csv\n",
      "Saved ../data/raw/buoydata/past\\300534061986510.csv\n",
      "Saved ../data/raw/buoydata/past\\300534061986530.csv\n",
      "Saved ../data/raw/buoydata/past\\300534062020890.csv\n",
      "Saved ../data/raw/buoydata/past\\300534062020970.csv\n",
      "Saved ../data/raw/buoydata/past\\300534062021930.csv\n",
      "Saved ../data/raw/buoydata/past\\300534062022970.csv\n",
      "Saved ../data/raw/buoydata/past\\300534062025510.csv\n",
      "Saved ../data/raw/buoydata/past\\300534062025520.csv\n",
      "Saved ../data/raw/buoydata/past\\300534062026520.csv\n",
      "Saved ../data/raw/buoydata/past\\300534062026670.csv\n",
      "Saved ../data/raw/buoydata/past\\300534062027650.csv\n",
      "Saved ../data/raw/buoydata/past\\300534062028520.csv\n",
      "Saved ../data/raw/buoydata/past\\300534062029520.csv\n",
      "Saved ../data/raw/buoydata/past\\300534062029650.csv\n",
      "Saved ../data/raw/buoydata/past\\300534062029960.csv\n",
      "Saved ../data/raw/buoydata/past\\300534062122480.csv\n",
      "Saved ../data/raw/buoydata/past\\300534062122830.csv\n",
      "Saved ../data/raw/buoydata/past\\300534062123830.csv\n",
      "Saved ../data/raw/buoydata/past\\300534062124450.csv\n",
      "Saved ../data/raw/buoydata/past\\300534062125830.csv\n",
      "Saved ../data/raw/buoydata/past\\300534062126820.csv\n",
      "Saved ../data/raw/buoydata/past\\300534062128440.csv\n",
      "Saved ../data/raw/buoydata/past\\300534062129440.csv\n",
      "Saved ../data/raw/buoydata/past\\300534062129810.csv\n",
      "Saved ../data/raw/buoydata/past\\300534062129820.csv\n",
      "Saved ../data/raw/buoydata/past\\300534062192260.csv\n",
      "Saved ../data/raw/buoydata/past\\300534062196230.csv\n",
      "Saved ../data/raw/buoydata/past\\300534062265120.csv\n",
      "Saved ../data/raw/buoydata/past\\300534062720770.csv\n",
      "Saved ../data/raw/buoydata/past\\300534062721510.csv\n",
      "Saved ../data/raw/buoydata/past\\300534062722530.csv\n",
      "Saved ../data/raw/buoydata/past\\300534062722770.csv\n",
      "Saved ../data/raw/buoydata/past\\300534062724510.csv\n",
      "Saved ../data/raw/buoydata/past\\300534062724770.csv\n",
      "Saved ../data/raw/buoydata/past\\300534062726500.csv\n",
      "Saved ../data/raw/buoydata/past\\300534062831790.csv\n",
      "Saved ../data/raw/buoydata/past\\300534062833770.csv\n",
      "Saved ../data/raw/buoydata/past\\300534062891690.csv\n",
      "Saved ../data/raw/buoydata/past\\300534062893740.csv\n",
      "Saved ../data/raw/buoydata/past\\300534062894700.csv\n",
      "Saved ../data/raw/buoydata/past\\300534062894740.csv\n",
      "Saved ../data/raw/buoydata/past\\300534062895700.csv\n",
      "Saved ../data/raw/buoydata/past\\300534062895730.csv\n",
      "Saved ../data/raw/buoydata/past\\300534062896730.csv\n",
      "Saved ../data/raw/buoydata/past\\300534062897690.csv\n",
      "Saved ../data/raw/buoydata/past\\300534063012410.csv\n",
      "Saved ../data/raw/buoydata/past\\300534063012420.csv\n",
      "Saved ../data/raw/buoydata/past\\300534063013420.csv\n",
      "Saved ../data/raw/buoydata/past\\300534063014500.csv\n",
      "Saved ../data/raw/buoydata/past\\300534063015400.csv\n",
      "Saved ../data/raw/buoydata/past\\300534063015410.csv\n",
      "Saved ../data/raw/buoydata/past\\300534063015430.csv\n",
      "Saved ../data/raw/buoydata/past\\300534063016400.csv\n",
      "Saved ../data/raw/buoydata/past\\300534063016410.csv\n",
      "Saved ../data/raw/buoydata/past\\300534063016420.csv\n",
      "Saved ../data/raw/buoydata/past\\300534063016430.csv\n",
      "Saved ../data/raw/buoydata/past\\300534063016440.csv\n",
      "Saved ../data/raw/buoydata/past\\300534063018410.csv\n",
      "Saved ../data/raw/buoydata/past\\300534063018420.csv\n",
      "Saved ../data/raw/buoydata/past\\300534063050430.csv\n",
      "Saved ../data/raw/buoydata/past\\300534063054440.csv\n",
      "Saved ../data/raw/buoydata/past\\300534063054450.csv\n",
      "Saved ../data/raw/buoydata/past\\300534063056460.csv\n",
      "Saved ../data/raw/buoydata/past\\300534063058450.csv\n",
      "Saved ../data/raw/buoydata/past\\300534063058460.csv\n",
      "Saved ../data/raw/buoydata/past\\300534063449630.csv\n",
      "Saved ../data/raw/buoydata/past\\300534063481690.csv\n",
      "Saved ../data/raw/buoydata/past\\300534063482670.csv\n",
      "Saved ../data/raw/buoydata/past\\300534063482680.csv\n",
      "Saved ../data/raw/buoydata/past\\300534063485670.csv\n",
      "Saved ../data/raw/buoydata/past\\300534063485680.csv\n",
      "Saved ../data/raw/buoydata/past\\300534063486690.csv\n",
      "Saved ../data/raw/buoydata/past\\300534063486700.csv\n",
      "Saved ../data/raw/buoydata/past\\300534063487700.csv\n",
      "Saved ../data/raw/buoydata/past\\300534063488690.csv\n",
      "Saved ../data/raw/buoydata/past\\300534063488700.csv\n",
      "Saved ../data/raw/buoydata/past\\300534063489680.csv\n",
      "Saved ../data/raw/buoydata/past\\300534063708990.csv\n",
      "Saved ../data/raw/buoydata/past\\300534063800100.csv\n",
      "Saved ../data/raw/buoydata/past\\300534063802100.csv\n",
      "Saved ../data/raw/buoydata/past\\300534063803110.csv\n",
      "Saved ../data/raw/buoydata/past\\300534063803130.csv\n",
      "Saved ../data/raw/buoydata/past\\300534063804120.csv\n",
      "Saved ../data/raw/buoydata/past\\300534063804280.csv\n",
      "Saved ../data/raw/buoydata/past\\300534063804290.csv\n",
      "Saved ../data/raw/buoydata/past\\300534063805140.csv\n",
      "Saved ../data/raw/buoydata/past\\300534063806270.csv\n",
      "Saved ../data/raw/buoydata/past\\300534063807110.csv\n",
      "Saved ../data/raw/buoydata/past\\300534063807280.csv\n",
      "Saved ../data/raw/buoydata/past\\300534063809090.csv\n",
      "Saved ../data/raw/buoydata/past\\300534063909060.csv\n",
      "Saved ../data/raw/buoydata/past\\300534064260620.csv\n",
      "Saved ../data/raw/buoydata/past\\300534064261600.csv\n",
      "Saved ../data/raw/buoydata/past\\300534064261620.csv\n",
      "Saved ../data/raw/buoydata/past\\300534064262600.csv\n",
      "Saved ../data/raw/buoydata/past\\300534064264600.csv\n",
      "Saved ../data/raw/buoydata/past\\300534064264610.csv\n",
      "Saved ../data/raw/buoydata/past\\300534064264620.csv\n",
      "Saved ../data/raw/buoydata/past\\300534064264630.csv\n",
      "Saved ../data/raw/buoydata/past\\300534064266620.csv\n",
      "Saved ../data/raw/buoydata/past\\300534064267620.csv\n",
      "Saved ../data/raw/buoydata/past\\300534064268600.csv\n",
      "Saved ../data/raw/buoydata/past\\300534064364400.csv\n",
      "Saved ../data/raw/buoydata/past\\300534064364470.csv\n",
      "Saved ../data/raw/buoydata/past\\300534064365820.csv\n",
      "Saved ../data/raw/buoydata/past\\300534064366810.csv\n",
      "Saved ../data/raw/buoydata/past\\300534064366820.csv\n",
      "Saved ../data/raw/buoydata/past\\300534064368480.csv\n",
      "Saved ../data/raw/buoydata/past\\300534064468030.csv\n"
     ]
    }
   ],
   "source": [
    "import os\n",
    "import pandas as pd\n",
    "import requests\n",
    "\n",
    "# URL of the file to download\n",
    "file_url = 'https://iabp.apl.uw.edu/Data_Products/LEVEL1_DATA/LEVEL1_2023.csv'\n",
    "\n",
    "# Directory to save the downloaded file\n",
    "temp_dir = '../data/raw/buoydata/past/temp'\n",
    "os.makedirs(temp_dir, exist_ok=True)\n",
    "\n",
    "# Path to save the downloaded file\n",
    "temp_file_path = os.path.join(temp_dir, 'IABP_Level1_2023all.csv')\n",
    "\n",
    "# Download the file\n",
    "response = requests.get(file_url)\n",
    "response.raise_for_status()  # Check if the request was successful\n",
    "\n",
    "# Save the file\n",
    "with open(temp_file_path, 'wb') as file:\n",
    "    file.write(response.content)\n",
    "\n",
    "print(f'Downloaded file to {temp_file_path}')\n",
    "\n",
    "# Read the downloaded CSV file\n",
    "df = pd.read_csv(temp_file_path)\n",
    "\n",
    "# Directory to save the separated CSV files\n",
    "output_dir = '../data/raw/buoydata/past'\n",
    "os.makedirs(output_dir, exist_ok=True)\n",
    "\n",
    "# Clear all files in the directory before saving new data, except the \"temp\" folder\n",
    "for filename in os.listdir(output_dir):\n",
    "    file_path = os.path.join(output_dir, filename)\n",
    "    try:\n",
    "        if os.path.isfile(file_path) or os.path.islink(file_path):\n",
    "            os.unlink(file_path)\n",
    "        elif os.path.isdir(file_path) and filename != 'temp':\n",
    "            os.rmdir(file_path)\n",
    "    except Exception as e:\n",
    "        print(f'Failed to delete {file_path}. Reason: {e}')\n",
    "    \n",
    "# Separate the file into discrete CSV files based on the buoyID column\n",
    "for buoy_id, group in df.groupby('BuoyID'):\n",
    "    output_file_path = os.path.join(output_dir, f'{buoy_id}.csv')\n",
    "    group.to_csv(output_file_path, index=False)\n",
    "    print(f'Saved {output_file_path}')"
   ]
  },
  {
   "cell_type": "markdown",
   "metadata": {},
   "source": [
    "This section will download data from the 2023 ERA5 reanalysis  and save as a netCDF. This data will be interpolated with the past buoy data as training data for machine learning algorithms."
   ]
  },
  {
   "cell_type": "code",
   "execution_count": null,
   "metadata": {},
   "outputs": [
    {
     "name": "stderr",
     "output_type": "stream",
     "text": [
      "2024-12-08 16:51:13,544 INFO [2024-09-28T00:00:00] **Welcome to the New Climate Data Store (CDS)!** This new system is in its early days of full operations and still undergoing enhancements and fine tuning. Some disruptions are to be expected. Your \n",
      "[feedback](https://jira.ecmwf.int/plugins/servlet/desk/portal/1/create/202) is key to improve the user experience on the new CDS for the benefit of everyone. Thank you.\n",
      "2024-12-08 16:51:13,544 INFO [2024-09-26T00:00:00] Watch our [Forum](https://forum.ecmwf.int/) for Announcements, news and other discussed topics.\n",
      "2024-12-08 16:51:13,545 INFO [2024-09-16T00:00:00] Remember that you need to have an ECMWF account to use the new CDS. **Your old CDS credentials will not work in new CDS!**\n",
      "2024-12-08 16:51:13,545 WARNING [2024-06-16T00:00:00] CDS API syntax is changed and some keys or parameter names may have also changed. To avoid requests failing, please use the \"Show API request code\" tool on the dataset Download Form to check you are using the correct syntax for your API request.\n"
     ]
    },
    {
     "name": "stdout",
     "output_type": "stream",
     "text": [
      "Downloading 10m_u_component_of_wind...\n"
     ]
    },
    {
     "name": "stderr",
     "output_type": "stream",
     "text": [
      "2024-12-08 16:51:14,258 WARNING [2024-10-10T00:00:00] The final validated ERA5 differs from ERA5T from July 2024 until further notice - please refer to our\n",
      "[Forum announcement](https://forum.ecmwf.int/t/final-validated-era5-product-to-differ-from-era5t-in-july-2024/6685)\n",
      "for details and watch it for further updates on this.\n",
      "2024-12-08 16:51:14,259 INFO Request ID is 09921051-b4bc-419b-ac60-0f6f50b1c128\n",
      "2024-12-08 16:51:14,566 INFO status has been updated to accepted\n",
      "2024-12-08 16:51:28,899 INFO status has been updated to running\n",
      "2024-12-08 17:11:47,635 INFO status has been updated to successful\n"
     ]
    },
    {
     "data": {
      "application/vnd.jupyter.widget-view+json": {
       "model_id": "e36b16fbbc284d01a6411d27ac0365ed",
       "version_major": 2,
       "version_minor": 0
      },
      "text/plain": [
       "5a4b0ed52bd1cc7fd7c299909c0af492.nc:   0%|          | 0.00/2.63G [00:00<?, ?B/s]"
      ]
     },
     "metadata": {},
     "output_type": "display_data"
    },
    {
     "name": "stdout",
     "output_type": "stream",
     "text": [
      "10m_u_component_of_wind downloaded successfully to ../data/raw/reanalyses/ERA5\\era5_10m_u_component_of_wind_2023.nc.\n",
      "Downloading 10m_v_component_of_wind...\n"
     ]
    },
    {
     "name": "stderr",
     "output_type": "stream",
     "text": [
      "2024-12-08 17:19:12,263 WARNING [2024-10-10T00:00:00] The final validated ERA5 differs from ERA5T from July 2024 until further notice - please refer to our\n",
      "[Forum announcement](https://forum.ecmwf.int/t/final-validated-era5-product-to-differ-from-era5t-in-july-2024/6685)\n",
      "for details and watch it for further updates on this.\n",
      "2024-12-08 17:19:12,264 INFO Request ID is c33e10ec-2069-46b9-9723-045dba4de190\n",
      "2024-12-08 17:19:12,546 INFO status has been updated to accepted\n",
      "2024-12-08 17:19:18,028 INFO status has been updated to running\n",
      "2024-12-08 17:39:48,051 INFO status has been updated to successful\n"
     ]
    },
    {
     "data": {
      "application/vnd.jupyter.widget-view+json": {
       "model_id": "5e436b7773fc497a9cd4c7b6de6d0218",
       "version_major": 2,
       "version_minor": 0
      },
      "text/plain": [
       "2751d05f06ce59d926eceb296b7d6347.nc:   0%|          | 0.00/2.65G [00:00<?, ?B/s]"
      ]
     },
     "metadata": {},
     "output_type": "display_data"
    },
    {
     "name": "stdout",
     "output_type": "stream",
     "text": [
      "10m_v_component_of_wind downloaded successfully to ../data/raw/reanalyses/ERA5\\era5_10m_v_component_of_wind_2023.nc.\n",
      "Downloading mean_wave_direction...\n"
     ]
    },
    {
     "name": "stderr",
     "output_type": "stream",
     "text": [
      "2024-12-08 17:48:00,272 WARNING [2024-10-10T00:00:00] The final validated ERA5 differs from ERA5T from July 2024 until further notice - please refer to our\n",
      "[Forum announcement](https://forum.ecmwf.int/t/final-validated-era5-product-to-differ-from-era5t-in-july-2024/6685)\n",
      "for details and watch it for further updates on this.\n",
      "2024-12-08 17:48:00,273 INFO Request ID is fe79e3e5-6f84-421f-8c0b-ab265dca4ac0\n",
      "2024-12-08 17:48:01,893 INFO status has been updated to accepted\n",
      "2024-12-08 17:48:07,405 INFO status has been updated to running\n",
      "2024-12-08 17:58:27,800 INFO status has been updated to successful\n"
     ]
    },
    {
     "data": {
      "application/vnd.jupyter.widget-view+json": {
       "model_id": "d1c988efec8944ab942c9028ae82f0c5",
       "version_major": 2,
       "version_minor": 0
      },
      "text/plain": [
       "d19bb3f761cff8be42317d9a178b6535.nc:   0%|          | 0.00/180M [00:00<?, ?B/s]"
      ]
     },
     "metadata": {},
     "output_type": "display_data"
    },
    {
     "name": "stdout",
     "output_type": "stream",
     "text": [
      "mean_wave_direction downloaded successfully to ../data/raw/reanalyses/ERA5\\era5_mean_wave_direction_2023.nc.\n",
      "Downloading mean_wave_period...\n"
     ]
    },
    {
     "name": "stderr",
     "output_type": "stream",
     "text": [
      "2024-12-08 17:59:20,123 WARNING [2024-10-10T00:00:00] The final validated ERA5 differs from ERA5T from July 2024 until further notice - please refer to our\n",
      "[Forum announcement](https://forum.ecmwf.int/t/final-validated-era5-product-to-differ-from-era5t-in-july-2024/6685)\n",
      "for details and watch it for further updates on this.\n",
      "2024-12-08 17:59:20,124 INFO Request ID is 54c3eccf-8235-46c8-bd93-5cbd58acc628\n",
      "2024-12-08 17:59:20,745 INFO status has been updated to accepted\n",
      "2024-12-08 17:59:24,961 INFO status has been updated to running\n",
      "2024-12-08 18:11:46,916 INFO status has been updated to successful\n"
     ]
    },
    {
     "data": {
      "application/vnd.jupyter.widget-view+json": {
       "model_id": "717069dcc8bb40289f31d9f1b8484022",
       "version_major": 2,
       "version_minor": 0
      },
      "text/plain": [
       "e7c95218d20472016a288b6e2162b6bf.nc:   0%|          | 0.00/162M [00:00<?, ?B/s]"
      ]
     },
     "metadata": {},
     "output_type": "display_data"
    },
    {
     "name": "stdout",
     "output_type": "stream",
     "text": [
      "mean_wave_period downloaded successfully to ../data/raw/reanalyses/ERA5\\era5_mean_wave_period_2023.nc.\n",
      "Downloading significant_height_of_combined_wind_waves_and_swell...\n"
     ]
    },
    {
     "name": "stderr",
     "output_type": "stream",
     "text": [
      "2024-12-08 18:12:51,593 WARNING [2024-10-10T00:00:00] The final validated ERA5 differs from ERA5T from July 2024 until further notice - please refer to our\n",
      "[Forum announcement](https://forum.ecmwf.int/t/final-validated-era5-product-to-differ-from-era5t-in-july-2024/6685)\n",
      "for details and watch it for further updates on this.\n",
      "2024-12-08 18:12:51,594 INFO Request ID is afd61770-8754-485d-9e78-701f8cfbde81\n",
      "2024-12-08 18:12:52,109 INFO status has been updated to accepted\n",
      "2024-12-08 18:12:57,600 INFO status has been updated to running\n",
      "2024-12-08 18:23:20,329 INFO status has been updated to successful\n"
     ]
    },
    {
     "data": {
      "application/vnd.jupyter.widget-view+json": {
       "model_id": "a39867cc124a4c668c98cf677f15affa",
       "version_major": 2,
       "version_minor": 0
      },
      "text/plain": [
       "c14af629528e1f7a7f4d377aa75218e2.nc:   0%|          | 0.00/174M [00:00<?, ?B/s]"
      ]
     },
     "metadata": {},
     "output_type": "display_data"
    },
    {
     "name": "stdout",
     "output_type": "stream",
     "text": [
      "significant_height_of_combined_wind_waves_and_swell downloaded successfully to ../data/raw/reanalyses/ERA5\\era5_significant_height_of_combined_wind_waves_and_swell_2023.nc.\n",
      "Downloading 100m_u_component_of_wind...\n"
     ]
    },
    {
     "name": "stderr",
     "output_type": "stream",
     "text": [
      "2024-12-08 18:23:53,886 WARNING [2024-10-10T00:00:00] The final validated ERA5 differs from ERA5T from July 2024 until further notice - please refer to our\n",
      "[Forum announcement](https://forum.ecmwf.int/t/final-validated-era5-product-to-differ-from-era5t-in-july-2024/6685)\n",
      "for details and watch it for further updates on this.\n",
      "2024-12-08 18:23:53,887 INFO Request ID is 6b23b7a2-e0d2-435b-b5b2-903bee8ad8a9\n",
      "2024-12-08 18:23:54,150 INFO status has been updated to accepted\n",
      "2024-12-08 18:24:03,357 INFO status has been updated to running\n",
      "2024-12-08 18:48:33,495 INFO status has been updated to successful\n"
     ]
    },
    {
     "data": {
      "application/vnd.jupyter.widget-view+json": {
       "model_id": "0c77b54f2c9845e3a189b808f685f4e1",
       "version_major": 2,
       "version_minor": 0
      },
      "text/plain": [
       "3ce1e54faab0bf67ad6ad98b5aaa971.nc:   0%|          | 0.00/2.63G [00:00<?, ?B/s]"
      ]
     },
     "metadata": {},
     "output_type": "display_data"
    },
    {
     "name": "stdout",
     "output_type": "stream",
     "text": [
      "100m_u_component_of_wind downloaded successfully to ../data/raw/reanalyses/ERA5\\era5_100m_u_component_of_wind_2023.nc.\n",
      "Downloading 100m_v_component_of_wind...\n"
     ]
    },
    {
     "name": "stderr",
     "output_type": "stream",
     "text": [
      "2024-12-08 18:58:19,985 WARNING [2024-10-10T00:00:00] The final validated ERA5 differs from ERA5T from July 2024 until further notice - please refer to our\n",
      "[Forum announcement](https://forum.ecmwf.int/t/final-validated-era5-product-to-differ-from-era5t-in-july-2024/6685)\n",
      "for details and watch it for further updates on this.\n",
      "2024-12-08 18:58:19,986 INFO Request ID is d81b6b79-f5ca-45e6-b445-a4dd1706ec16\n",
      "2024-12-08 18:58:20,427 INFO status has been updated to accepted\n",
      "2024-12-08 18:58:43,417 INFO status has been updated to running\n",
      "2024-12-08 19:41:03,362 INFO status has been updated to successful\n"
     ]
    },
    {
     "data": {
      "application/vnd.jupyter.widget-view+json": {
       "model_id": "79a65cba290d4986bd3498666bd29ceb",
       "version_major": 2,
       "version_minor": 0
      },
      "text/plain": [
       "747f1abba3b6fa324690dd32bd74bb82.nc:   0%|          | 0.00/2.67G [00:00<?, ?B/s]"
      ]
     },
     "metadata": {},
     "output_type": "display_data"
    },
    {
     "name": "stdout",
     "output_type": "stream",
     "text": [
      "100m_v_component_of_wind downloaded successfully to ../data/raw/reanalyses/ERA5\\era5_100m_v_component_of_wind_2023.nc.\n",
      "Downloading model_bathymetry...\n"
     ]
    },
    {
     "name": "stderr",
     "output_type": "stream",
     "text": [
      "2024-12-08 19:52:00,446 WARNING [2024-10-10T00:00:00] The final validated ERA5 differs from ERA5T from July 2024 until further notice - please refer to our\n",
      "[Forum announcement](https://forum.ecmwf.int/t/final-validated-era5-product-to-differ-from-era5t-in-july-2024/6685)\n",
      "for details and watch it for further updates on this.\n",
      "2024-12-08 19:52:00,447 INFO Request ID is 6bd822e8-f4d9-4ec0-9d34-a71a481a2131\n",
      "2024-12-08 19:52:00,685 INFO status has been updated to accepted\n",
      "2024-12-08 19:52:09,670 INFO status has been updated to running\n",
      "2024-12-08 20:02:37,639 INFO status has been updated to successful\n"
     ]
    },
    {
     "data": {
      "application/vnd.jupyter.widget-view+json": {
       "model_id": "58d00df38ada4054b0259f424ba72bab",
       "version_major": 2,
       "version_minor": 0
      },
      "text/plain": [
       "59da1a6a640dd7b95d16f9ebe21e4e4b.nc:   0%|          | 0.00/31.1M [00:00<?, ?B/s]"
      ]
     },
     "metadata": {},
     "output_type": "display_data"
    },
    {
     "name": "stdout",
     "output_type": "stream",
     "text": [
      "model_bathymetry downloaded successfully to ../data/raw/reanalyses/ERA5\\era5_model_bathymetry_2023.nc.\n",
      "Downloading sea_ice_cover...\n"
     ]
    },
    {
     "name": "stderr",
     "output_type": "stream",
     "text": [
      "2024-12-08 20:02:46,236 WARNING [2024-10-10T00:00:00] The final validated ERA5 differs from ERA5T from July 2024 until further notice - please refer to our\n",
      "[Forum announcement](https://forum.ecmwf.int/t/final-validated-era5-product-to-differ-from-era5t-in-july-2024/6685)\n",
      "for details and watch it for further updates on this.\n",
      "2024-12-08 20:02:46,237 INFO Request ID is 7afacda2-2b5b-4a55-8833-58ea49ad97f7\n",
      "2024-12-08 20:02:46,469 INFO status has been updated to accepted\n",
      "2024-12-08 20:02:52,004 INFO status has been updated to running\n",
      "2024-12-08 20:21:17,091 INFO status has been updated to successful\n"
     ]
    },
    {
     "data": {
      "application/vnd.jupyter.widget-view+json": {
       "model_id": "96175fc1b5aa47ec9ae22ecfd5386c33",
       "version_major": 2,
       "version_minor": 0
      },
      "text/plain": [
       "a842e0234f28efa39a28e99d9921e36d.nc:   0%|          | 0.00/151M [00:00<?, ?B/s]"
      ]
     },
     "metadata": {},
     "output_type": "display_data"
    },
    {
     "name": "stdout",
     "output_type": "stream",
     "text": [
      "sea_ice_cover downloaded successfully to ../data/raw/reanalyses/ERA5\\era5_sea_ice_cover_2023.nc.\n"
     ]
    }
   ],
   "source": [
    "import os\n",
    "import cdsapi\n",
    "\n",
    "# Define the output directory\n",
    "output_dir = \"../data/raw/reanalyses/ERA5\"\n",
    "os.makedirs(output_dir, exist_ok=True)\n",
    "\n",
    "# Set the CDSAPI_RC environment variable to the path of your .cdsapirc file\n",
    "os.environ['CDSAPI_RC'] = '../.cdsapirc'\n",
    "\n",
    "# List of variables to download\n",
    "variables = [\n",
    "    \"10m_u_component_of_wind\",\n",
    "    \"10m_v_component_of_wind\",\n",
    "    \"100m_u_component_of_wind\",\n",
    "    \"100m_v_component_of_wind\",\n",
    "    \"sea_ice_cover\"\n",
    "]\n",
    "\n",
    "# Loop over variables to download each separately\n",
    "client = cdsapi.Client()\n",
    "dataset = \"reanalysis-era5-single-levels\"\n",
    "\n",
    "for variable in variables:\n",
    "    print(f\"Downloading {variable}...\")\n",
    "\n",
    "    # Request configuration for the specific variable\n",
    "    request = {\n",
    "        \"product_type\": [\"reanalysis\"],\n",
    "        \"variable\": [variable],\n",
    "        \"year\": [\"2023\"],\n",
    "        \"month\": [\n",
    "            \"01\", \"02\", \"03\",\n",
    "            \"04\", \"05\", \"06\",\n",
    "            \"07\", \"08\", \"09\",\n",
    "            \"10\", \"11\", \"12\"\n",
    "        ],\n",
    "        \"day\": [\n",
    "            \"01\", \"02\", \"03\",\n",
    "            \"04\", \"05\", \"06\",\n",
    "            \"07\", \"08\", \"09\",\n",
    "            \"10\", \"11\", \"12\",\n",
    "            \"13\", \"14\", \"15\",\n",
    "            \"16\", \"17\", \"18\",\n",
    "            \"19\", \"20\", \"21\",\n",
    "            \"22\", \"23\", \"24\",\n",
    "            \"25\", \"26\", \"27\",\n",
    "            \"28\", \"29\", \"30\",\n",
    "            \"31\"\n",
    "        ],\n",
    "        \"time\": [\n",
    "            \"00:00\", \"01:00\", \"02:00\",\n",
    "            \"03:00\", \"04:00\", \"05:00\",\n",
    "            \"06:00\", \"07:00\", \"08:00\",\n",
    "            \"09:00\", \"10:00\", \"11:00\",\n",
    "            \"12:00\", \"13:00\", \"14:00\",\n",
    "            \"15:00\", \"16:00\", \"17:00\",\n",
    "            \"18:00\", \"19:00\", \"20:00\",\n",
    "            \"21:00\", \"22:00\", \"23:00\"\n",
    "        ],\n",
    "        \"data_format\": \"netcdf\",\n",
    "        \"area\": [90, -180, 60, 180]  # North, West, South, East\n",
    "    }\n",
    "\n",
    "    # Define the target file path\n",
    "    target_file = os.path.join(output_dir, f\"era5_{variable}_2023.nc\")\n",
    "    \n",
    "    # Retrieve the data\n",
    "    client.retrieve(dataset, request, target_file)\n",
    "\n",
    "    print(f\"{variable} downloaded successfully to {target_file}.\")"
   ]
  }
 ],
 "metadata": {
  "kernelspec": {
   "display_name": "base",
   "language": "python",
   "name": "python3"
  },
  "language_info": {
   "codemirror_mode": {
    "name": "ipython",
    "version": 3
   },
   "file_extension": ".py",
   "mimetype": "text/x-python",
   "name": "python",
   "nbconvert_exporter": "python",
   "pygments_lexer": "ipython3",
   "version": "3.12.3"
  }
 },
 "nbformat": 4,
 "nbformat_minor": 2
}
